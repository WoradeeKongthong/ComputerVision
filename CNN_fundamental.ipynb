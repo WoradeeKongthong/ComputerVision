{
  "nbformat": 4,
  "nbformat_minor": 0,
  "metadata": {
    "colab": {
      "name": "CNN_fundamental.ipynb",
      "provenance": [],
      "authorship_tag": "ABX9TyMy7pK6is1m0CTxsLuhUi0A",
      "include_colab_link": true
    },
    "kernelspec": {
      "name": "python3",
      "display_name": "Python 3"
    }
  },
  "cells": [
    {
      "cell_type": "markdown",
      "metadata": {
        "id": "view-in-github",
        "colab_type": "text"
      },
      "source": [
        "<a href=\"https://colab.research.google.com/github/WoradeeKongthong/ComputerVision/blob/master/CNN_fundamental.ipynb\" target=\"_parent\"><img src=\"https://colab.research.google.com/assets/colab-badge.svg\" alt=\"Open In Colab\"/></a>"
      ]
    },
    {
      "cell_type": "markdown",
      "metadata": {
        "id": "iHpDtBAGlOUn",
        "colab_type": "text"
      },
      "source": [
        "# 1D Convolutional Layer\n",
        "input dimension : [sample, length of sample, channel]"
      ]
    },
    {
      "cell_type": "code",
      "metadata": {
        "id": "2Qlv1JJ3QsFE",
        "colab_type": "code",
        "colab": {}
      },
      "source": [
        "import numpy as np\n",
        "from keras.models import Sequential\n",
        "from keras.layers import Conv1D"
      ],
      "execution_count": 4,
      "outputs": []
    },
    {
      "cell_type": "code",
      "metadata": {
        "id": "Iwx1Dilrlize",
        "colab_type": "code",
        "colab": {
          "base_uri": "https://localhost:8080/",
          "height": 194
        },
        "outputId": "d94bb156-0ec1-4908-f550-36ed7a6758ba"
      },
      "source": [
        "# define input data\n",
        "data = np.asarray([0, 0, 0, 1, 1, 0, 0, 0])\n",
        "print(data.shape)\n",
        "\n",
        "# reshape to be Conv layer input\n",
        "data = data.reshape(1, len(data), 1)\n",
        "print(data.shape)\n",
        "print(data)"
      ],
      "execution_count": 7,
      "outputs": [
        {
          "output_type": "stream",
          "text": [
            "(8,)\n",
            "(1, 8, 1)\n",
            "[[[0]\n",
            "  [0]\n",
            "  [0]\n",
            "  [1]\n",
            "  [1]\n",
            "  [0]\n",
            "  [0]\n",
            "  [0]]]\n"
          ],
          "name": "stdout"
        }
      ]
    },
    {
      "cell_type": "code",
      "metadata": {
        "id": "gWEUDZaEnEZ9",
        "colab_type": "code",
        "colab": {
          "base_uri": "https://localhost:8080/",
          "height": 212
        },
        "outputId": "caa495d2-3bf2-494d-ed0f-62b372af710c"
      },
      "source": [
        "# create simple model\n",
        "model = Sequential()\n",
        "model.add(Conv1D(filters=1, kernel_size=3, input_shape=(data.shape[1], data.shape[2])))\n",
        "print('input shape : ',model.input_shape)\n",
        "model.summary()"
      ],
      "execution_count": 13,
      "outputs": [
        {
          "output_type": "stream",
          "text": [
            "input shape :  (None, 8, 1)\n",
            "Model: \"sequential_3\"\n",
            "_________________________________________________________________\n",
            "Layer (type)                 Output Shape              Param #   \n",
            "=================================================================\n",
            "conv1d_3 (Conv1D)            (None, 6, 1)              4         \n",
            "=================================================================\n",
            "Total params: 4\n",
            "Trainable params: 4\n",
            "Non-trainable params: 0\n",
            "_________________________________________________________________\n"
          ],
          "name": "stdout"
        }
      ]
    },
    {
      "cell_type": "code",
      "metadata": {
        "id": "zYzvc9pznobV",
        "colab_type": "code",
        "colab": {
          "base_uri": "https://localhost:8080/",
          "height": 105
        },
        "outputId": "f9207ece-7f34-4741-9e9f-4bc84e0eb32b"
      },
      "source": [
        "# define a vertical line detector (list of weights array and bias array)\n",
        "detector = [np.asarray([[[0]],[[1]],[[0]]]), np.asarray([0.0])]\n",
        "print(detector)"
      ],
      "execution_count": 20,
      "outputs": [
        {
          "output_type": "stream",
          "text": [
            "[array([[[0]],\n",
            "\n",
            "       [[1]],\n",
            "\n",
            "       [[0]]]), array([0.])]\n"
          ],
          "name": "stdout"
        }
      ]
    },
    {
      "cell_type": "code",
      "metadata": {
        "id": "QPiEEJ6SoUxo",
        "colab_type": "code",
        "colab": {
          "base_uri": "https://localhost:8080/",
          "height": 105
        },
        "outputId": "2c4fd484-f15b-4919-fcdf-feeb9b7c76bc"
      },
      "source": [
        "# store the detector as weights of the model\n",
        "model.set_weights(detector)\n",
        "print(model.get_weights())"
      ],
      "execution_count": 21,
      "outputs": [
        {
          "output_type": "stream",
          "text": [
            "[array([[[0.]],\n",
            "\n",
            "       [[1.]],\n",
            "\n",
            "       [[0.]]], dtype=float32), array([0.], dtype=float32)]\n"
          ],
          "name": "stdout"
        }
      ]
    },
    {
      "cell_type": "code",
      "metadata": {
        "id": "XwErRz01otzx",
        "colab_type": "code",
        "colab": {
          "base_uri": "https://localhost:8080/",
          "height": 141
        },
        "outputId": "5c3a5fb6-2865-4029-d21f-5ebea1ae6b16"
      },
      "source": [
        "# apply detector(or filter) to input data\n",
        "ypred = model.predict(data)\n",
        "print(ypred)\n",
        "print(ypred.shape)"
      ],
      "execution_count": 23,
      "outputs": [
        {
          "output_type": "stream",
          "text": [
            "[[[0.]\n",
            "  [0.]\n",
            "  [1.]\n",
            "  [1.]\n",
            "  [0.]\n",
            "  [0.]]]\n",
            "(1, 6, 1)\n"
          ],
          "name": "stdout"
        }
      ]
    },
    {
      "cell_type": "markdown",
      "metadata": {
        "id": "qUOmVpHcpb00",
        "colab_type": "text"
      },
      "source": [
        "# 2D Convolutional Layer\n",
        "input dimension : [samples, columns, rows, channels]"
      ]
    },
    {
      "cell_type": "code",
      "metadata": {
        "id": "6W4dshdQpeX7",
        "colab_type": "code",
        "colab": {}
      },
      "source": [
        "from keras.layers import Conv2D"
      ],
      "execution_count": 24,
      "outputs": []
    },
    {
      "cell_type": "code",
      "metadata": {
        "id": "JR420ypop8VZ",
        "colab_type": "code",
        "colab": {
          "base_uri": "https://localhost:8080/",
          "height": 52
        },
        "outputId": "6c7772bf-5c3d-423a-93a6-fe38c491ef2c"
      },
      "source": [
        "# define input data\n",
        "data = [[0, 0, 0, 1, 1, 0, 0, 0],\n",
        "\t\t[0, 0, 0, 1, 1, 0, 0, 0],\n",
        "\t\t[0, 0, 0, 1, 1, 0, 0, 0],\n",
        "\t\t[0, 0, 0, 1, 1, 0, 0, 0],\n",
        "\t\t[0, 0, 0, 1, 1, 0, 0, 0],\n",
        "\t\t[0, 0, 0, 1, 1, 0, 0, 0],\n",
        "\t\t[0, 0, 0, 1, 1, 0, 0, 0],\n",
        "\t\t[0, 0, 0, 1, 1, 0, 0, 0]]\n",
        "data = np.asarray(data)\n",
        "print(data.shape)\n",
        "\n",
        "# reshape to be Conv2D input\n",
        "data = data.reshape(1, data.shape[0], data.shape[1], 1)\n",
        "print(data.shape)"
      ],
      "execution_count": 30,
      "outputs": [
        {
          "output_type": "stream",
          "text": [
            "(8, 8)\n",
            "(1, 8, 8, 1)\n"
          ],
          "name": "stdout"
        }
      ]
    },
    {
      "cell_type": "code",
      "metadata": {
        "id": "v-p-fC_-qXNY",
        "colab_type": "code",
        "colab": {
          "base_uri": "https://localhost:8080/",
          "height": 230
        },
        "outputId": "381baa97-8a2c-49f2-e1ed-722656764ffa"
      },
      "source": [
        "# create model\n",
        "model = Sequential()\n",
        "model.add(Conv2D(filters=1, kernel_size=(3,3), input_shape=(8,8,1)))\n",
        "print('input shape : ',model.input_shape)\n",
        "print(model.summary())"
      ],
      "execution_count": 33,
      "outputs": [
        {
          "output_type": "stream",
          "text": [
            "input shape :  (None, 8, 8, 1)\n",
            "Model: \"sequential_6\"\n",
            "_________________________________________________________________\n",
            "Layer (type)                 Output Shape              Param #   \n",
            "=================================================================\n",
            "conv2d_2 (Conv2D)            (None, 6, 6, 1)           10        \n",
            "=================================================================\n",
            "Total params: 10\n",
            "Trainable params: 10\n",
            "Non-trainable params: 0\n",
            "_________________________________________________________________\n",
            "None\n"
          ],
          "name": "stdout"
        }
      ]
    },
    {
      "cell_type": "code",
      "metadata": {
        "id": "RXmhw0UBrTsE",
        "colab_type": "code",
        "colab": {
          "base_uri": "https://localhost:8080/",
          "height": 425
        },
        "outputId": "597a4b3c-31e9-4550-8154-9cbc9eb6603a"
      },
      "source": [
        "# model initial weights and bias\n",
        "print('weights shape : ',np.asarray(model.get_weights()[0]).shape)\n",
        "print(np.asarray(model.get_weights()[0]))\n",
        "\n",
        "print('\\nbias shape : ',np.asarray(model.get_weights()[1]).shape)\n",
        "print(np.asarray(model.get_weights()[1]))\n"
      ],
      "execution_count": 43,
      "outputs": [
        {
          "output_type": "stream",
          "text": [
            "weights shape :  (3, 3, 1, 1)\n",
            "[[[[-0.5546629 ]]\n",
            "\n",
            "  [[ 0.12969524]]\n",
            "\n",
            "  [[ 0.2091412 ]]]\n",
            "\n",
            "\n",
            " [[[-0.280225  ]]\n",
            "\n",
            "  [[-0.15319127]]\n",
            "\n",
            "  [[ 0.27017468]]]\n",
            "\n",
            "\n",
            " [[[ 0.5677451 ]]\n",
            "\n",
            "  [[ 0.18917477]]\n",
            "\n",
            "  [[-0.23601866]]]]\n",
            "\n",
            "bias shape :  (1,)\n",
            "[0.]\n"
          ],
          "name": "stdout"
        }
      ]
    },
    {
      "cell_type": "code",
      "metadata": {
        "id": "1J2XE--fquec",
        "colab_type": "code",
        "colab": {
          "base_uri": "https://localhost:8080/",
          "height": 34
        },
        "outputId": "8f401528-a026-4333-bf43-2060448e1593"
      },
      "source": [
        "# define a vertical line detector (shape : (3,3,1,1))\n",
        "detector = [[[[0]],[[1]],[[0]]],\n",
        "            [[[0]],[[1]],[[0]]],\n",
        "            [[[0]],[[1]],[[0]]]]\n",
        "print(np.asarray(detector).shape)\n",
        "\n",
        "# combine with bias\n",
        "detector = [np.asarray(detector), np.asarray([0.0])]"
      ],
      "execution_count": 45,
      "outputs": [
        {
          "output_type": "stream",
          "text": [
            "(3, 3, 1, 1)\n"
          ],
          "name": "stdout"
        }
      ]
    },
    {
      "cell_type": "code",
      "metadata": {
        "id": "irhW4BWGs4qS",
        "colab_type": "code",
        "colab": {
          "base_uri": "https://localhost:8080/",
          "height": 354
        },
        "outputId": "5d6202c8-3b45-4007-b6ab-0b211ef9294d"
      },
      "source": [
        "# store detector as weights of the model\n",
        "model.set_weights(detector)\n",
        "model.get_weights()"
      ],
      "execution_count": 46,
      "outputs": [
        {
          "output_type": "execute_result",
          "data": {
            "text/plain": [
              "[array([[[[0.]],\n",
              " \n",
              "         [[1.]],\n",
              " \n",
              "         [[0.]]],\n",
              " \n",
              " \n",
              "        [[[0.]],\n",
              " \n",
              "         [[1.]],\n",
              " \n",
              "         [[0.]]],\n",
              " \n",
              " \n",
              "        [[[0.]],\n",
              " \n",
              "         [[1.]],\n",
              " \n",
              "         [[0.]]]], dtype=float32), array([0.], dtype=float32)]"
            ]
          },
          "metadata": {
            "tags": []
          },
          "execution_count": 46
        }
      ]
    },
    {
      "cell_type": "code",
      "metadata": {
        "id": "KZAIntYqtD-P",
        "colab_type": "code",
        "colab": {
          "base_uri": "https://localhost:8080/",
          "height": 763
        },
        "outputId": "97180856-c5ae-4b3a-990d-ebfad774e55b"
      },
      "source": [
        "# apply detector (or filter) to input data\n",
        "ypred = model.predict(data)\n",
        "print('ypred shape : ',ypred.shape)\n",
        "print(ypred)"
      ],
      "execution_count": 48,
      "outputs": [
        {
          "output_type": "stream",
          "text": [
            "ypred shape :  (1, 6, 6, 1)\n",
            "[[[[0.]\n",
            "   [0.]\n",
            "   [3.]\n",
            "   [3.]\n",
            "   [0.]\n",
            "   [0.]]\n",
            "\n",
            "  [[0.]\n",
            "   [0.]\n",
            "   [3.]\n",
            "   [3.]\n",
            "   [0.]\n",
            "   [0.]]\n",
            "\n",
            "  [[0.]\n",
            "   [0.]\n",
            "   [3.]\n",
            "   [3.]\n",
            "   [0.]\n",
            "   [0.]]\n",
            "\n",
            "  [[0.]\n",
            "   [0.]\n",
            "   [3.]\n",
            "   [3.]\n",
            "   [0.]\n",
            "   [0.]]\n",
            "\n",
            "  [[0.]\n",
            "   [0.]\n",
            "   [3.]\n",
            "   [3.]\n",
            "   [0.]\n",
            "   [0.]]\n",
            "\n",
            "  [[0.]\n",
            "   [0.]\n",
            "   [3.]\n",
            "   [3.]\n",
            "   [0.]\n",
            "   [0.]]]]\n"
          ],
          "name": "stdout"
        }
      ]
    },
    {
      "cell_type": "markdown",
      "metadata": {
        "id": "UwobBAqTtmWB",
        "colab_type": "text"
      },
      "source": [
        "# Convolutional Layer Output Dimension\n",
        "input dim : [samples, rows, columns, channels]  \n",
        "output dim : [samples, rows, columns, filters]  \n",
        "*   output rows and columns get smaller because of kernel_size (Border Effect) \n",
        "*   output channels get larger because of filter number"
      ]
    },
    {
      "cell_type": "code",
      "metadata": {
        "id": "TqOEmLRBusP-",
        "colab_type": "code",
        "colab": {
          "base_uri": "https://localhost:8080/",
          "height": 34
        },
        "outputId": "419c6c49-786f-408c-f62d-76292c823e72"
      },
      "source": [
        "print(data.shape)"
      ],
      "execution_count": 50,
      "outputs": [
        {
          "output_type": "stream",
          "text": [
            "(1, 8, 8, 1)\n"
          ],
          "name": "stdout"
        }
      ]
    },
    {
      "cell_type": "code",
      "metadata": {
        "id": "o7l4dXuduwj-",
        "colab_type": "code",
        "colab": {
          "base_uri": "https://localhost:8080/",
          "height": 212
        },
        "outputId": "e09e4225-e022-4330-d285-e94cedd76168"
      },
      "source": [
        "# create model\n",
        "model = Sequential()\n",
        "model.add(Conv2D(filters=2, kernel_size=(3,3), input_shape=(8,8,1)))\n",
        "print('input shape : ', model.input_shape)\n",
        "model.summary()"
      ],
      "execution_count": 52,
      "outputs": [
        {
          "output_type": "stream",
          "text": [
            "input shape :  (None, 8, 8, 1)\n",
            "Model: \"sequential_8\"\n",
            "_________________________________________________________________\n",
            "Layer (type)                 Output Shape              Param #   \n",
            "=================================================================\n",
            "conv2d_4 (Conv2D)            (None, 6, 6, 2)           20        \n",
            "=================================================================\n",
            "Total params: 20\n",
            "Trainable params: 20\n",
            "Non-trainable params: 0\n",
            "_________________________________________________________________\n"
          ],
          "name": "stdout"
        }
      ]
    },
    {
      "cell_type": "markdown",
      "metadata": {
        "id": "OsomODfzvfhD",
        "colab_type": "text"
      },
      "source": [
        "## Fix Border Effect Problem with Padding"
      ]
    },
    {
      "cell_type": "code",
      "metadata": {
        "id": "gPvJT3tmvi3C",
        "colab_type": "code",
        "colab": {
          "base_uri": "https://localhost:8080/",
          "height": 212
        },
        "outputId": "447031b0-7a45-4097-d2c7-8e088ceb90d4"
      },
      "source": [
        "# create model\n",
        "model = Sequential()\n",
        "model.add(Conv2D(filters=2, kernel_size=(3,3), input_shape=(8,8,1), padding='same'))\n",
        "print('input shape : ', model.input_shape)\n",
        "model.summary()"
      ],
      "execution_count": 53,
      "outputs": [
        {
          "output_type": "stream",
          "text": [
            "input shape :  (None, 8, 8, 1)\n",
            "Model: \"sequential_9\"\n",
            "_________________________________________________________________\n",
            "Layer (type)                 Output Shape              Param #   \n",
            "=================================================================\n",
            "conv2d_5 (Conv2D)            (None, 8, 8, 2)           20        \n",
            "=================================================================\n",
            "Total params: 20\n",
            "Trainable params: 20\n",
            "Non-trainable params: 0\n",
            "_________________________________________________________________\n"
          ],
          "name": "stdout"
        }
      ]
    },
    {
      "cell_type": "markdown",
      "metadata": {
        "id": "3nzYuc_SvzUR",
        "colab_type": "text"
      },
      "source": [
        "## Down sampling with Stride"
      ]
    },
    {
      "cell_type": "code",
      "metadata": {
        "id": "nASU4uLSv1aI",
        "colab_type": "code",
        "colab": {
          "base_uri": "https://localhost:8080/",
          "height": 212
        },
        "outputId": "2f4a06c3-f2af-4908-fd1d-8a594944435a"
      },
      "source": [
        "# create model\n",
        "model = Sequential()\n",
        "model.add(Conv2D(filters=2, kernel_size=(3,3), strides=(2,2), input_shape=(8,8,1), padding='same'))\n",
        "print('input shape : ', model.input_shape)\n",
        "model.summary()"
      ],
      "execution_count": 55,
      "outputs": [
        {
          "output_type": "stream",
          "text": [
            "input shape :  (None, 8, 8, 1)\n",
            "Model: \"sequential_10\"\n",
            "_________________________________________________________________\n",
            "Layer (type)                 Output Shape              Param #   \n",
            "=================================================================\n",
            "conv2d_6 (Conv2D)            (None, 4, 4, 2)           20        \n",
            "=================================================================\n",
            "Total params: 20\n",
            "Trainable params: 20\n",
            "Non-trainable params: 0\n",
            "_________________________________________________________________\n"
          ],
          "name": "stdout"
        }
      ]
    },
    {
      "cell_type": "markdown",
      "metadata": {
        "id": "lbrtV_tGycRV",
        "colab_type": "text"
      },
      "source": [
        "## Down Sampling with Pooling Layer\n",
        "More robust and common approach to summarize the features detected in the input.  \n",
        "(the model's invariance to local translation)  \n",
        " \n",
        "2 types of pooling layer \n",
        "1.   Average Pooling\n",
        "2.   Maximum Pooling"
      ]
    },
    {
      "cell_type": "markdown",
      "metadata": {
        "id": "djWT6FAz1aHX",
        "colab_type": "text"
      },
      "source": [
        "### Simple model : detecting vertical line"
      ]
    },
    {
      "cell_type": "code",
      "metadata": {
        "id": "Z0AtRWsCzt0K",
        "colab_type": "code",
        "colab": {
          "base_uri": "https://localhost:8080/",
          "height": 34
        },
        "outputId": "98417eb8-b0d4-45b6-e6c4-1a7141e25e89"
      },
      "source": [
        "# define input data\n",
        "data = [[0, 0, 0, 1, 1, 0, 0, 0],\n",
        "\t\t[0, 0, 0, 1, 1, 0, 0, 0],\n",
        "\t\t[0, 0, 0, 1, 1, 0, 0, 0],\n",
        "\t\t[0, 0, 0, 1, 1, 0, 0, 0],\n",
        "\t\t[0, 0, 0, 1, 1, 0, 0, 0],\n",
        "\t\t[0, 0, 0, 1, 1, 0, 0, 0],\n",
        "\t\t[0, 0, 0, 1, 1, 0, 0, 0],\n",
        "\t\t[0, 0, 0, 1, 1, 0, 0, 0]]\n",
        "data = np.asarray(data)\n",
        "\n",
        "# reshape to be Conv2D input\n",
        "data = data.reshape(1, data.shape[0], data.shape[1], 1)\n",
        "print(data.shape)"
      ],
      "execution_count": 59,
      "outputs": [
        {
          "output_type": "stream",
          "text": [
            "(1, 8, 8, 1)\n"
          ],
          "name": "stdout"
        }
      ]
    },
    {
      "cell_type": "code",
      "metadata": {
        "id": "rqneXtoa0Oba",
        "colab_type": "code",
        "colab": {
          "base_uri": "https://localhost:8080/",
          "height": 230
        },
        "outputId": "d30955a4-e2d7-40af-e276-7cfdadeb4a7f"
      },
      "source": [
        "# create model\n",
        "model = Sequential()\n",
        "model.add(Conv2D(filters=1, kernel_size=(3,3), activation='relu',input_shape=(8,8,1)))\n",
        "print('input shape : ',model.input_shape)\n",
        "print(model.summary())"
      ],
      "execution_count": 60,
      "outputs": [
        {
          "output_type": "stream",
          "text": [
            "input shape :  (None, 8, 8, 1)\n",
            "Model: \"sequential_11\"\n",
            "_________________________________________________________________\n",
            "Layer (type)                 Output Shape              Param #   \n",
            "=================================================================\n",
            "conv2d_7 (Conv2D)            (None, 6, 6, 1)           10        \n",
            "=================================================================\n",
            "Total params: 10\n",
            "Trainable params: 10\n",
            "Non-trainable params: 0\n",
            "_________________________________________________________________\n",
            "None\n"
          ],
          "name": "stdout"
        }
      ]
    },
    {
      "cell_type": "code",
      "metadata": {
        "id": "_ev2R2ao0ibn",
        "colab_type": "code",
        "colab": {}
      },
      "source": [
        "# define a vertical line detector (shape : (3,3,1,1))\n",
        "detector = [[[[0]],[[1]],[[0]]],\n",
        "            [[[0]],[[1]],[[0]]],\n",
        "            [[[0]],[[1]],[[0]]]]\n",
        "\n",
        "# combine with bias\n",
        "detector = [np.asarray(detector), np.asarray([0.0])]\n",
        "\n",
        "# set model weights\n",
        "model.set_weights(detector)"
      ],
      "execution_count": 62,
      "outputs": []
    },
    {
      "cell_type": "code",
      "metadata": {
        "id": "zEF2ZEqv0sE4",
        "colab_type": "code",
        "colab": {
          "base_uri": "https://localhost:8080/",
          "height": 123
        },
        "outputId": "fa54d9a5-a52a-4a21-f966-3c57a0328f20"
      },
      "source": [
        "ypred = model.predict(data)\n",
        "\n",
        "# enumerate rows\n",
        "for r in range(ypred.shape[1]):\n",
        "  print([ypred[0,r,c,0] for c in range(ypred.shape[2])])"
      ],
      "execution_count": 63,
      "outputs": [
        {
          "output_type": "stream",
          "text": [
            "[0.0, 0.0, 3.0, 3.0, 0.0, 0.0]\n",
            "[0.0, 0.0, 3.0, 3.0, 0.0, 0.0]\n",
            "[0.0, 0.0, 3.0, 3.0, 0.0, 0.0]\n",
            "[0.0, 0.0, 3.0, 3.0, 0.0, 0.0]\n",
            "[0.0, 0.0, 3.0, 3.0, 0.0, 0.0]\n",
            "[0.0, 0.0, 3.0, 3.0, 0.0, 0.0]\n"
          ],
          "name": "stdout"
        }
      ]
    },
    {
      "cell_type": "markdown",
      "metadata": {
        "id": "ihsZQHsV1e2t",
        "colab_type": "text"
      },
      "source": [
        "### Average Pooling Layer added"
      ]
    },
    {
      "cell_type": "code",
      "metadata": {
        "id": "KGmp2M6A1Xau",
        "colab_type": "code",
        "colab": {
          "base_uri": "https://localhost:8080/",
          "height": 265
        },
        "outputId": "b3a27a8c-0b40-434a-f45a-b7e1aeb05c14"
      },
      "source": [
        "from keras.layers import AveragePooling2D\n",
        "\n",
        "# create model\n",
        "model = Sequential()\n",
        "model.add(Conv2D(filters=1, kernel_size=(3,3), activation='relu',input_shape=(8,8,1)))\n",
        "model.add(AveragePooling2D())\n",
        "print('input shape : ',model.input_shape)\n",
        "print(model.summary())"
      ],
      "execution_count": 64,
      "outputs": [
        {
          "output_type": "stream",
          "text": [
            "input shape :  (None, 8, 8, 1)\n",
            "Model: \"sequential_12\"\n",
            "_________________________________________________________________\n",
            "Layer (type)                 Output Shape              Param #   \n",
            "=================================================================\n",
            "conv2d_8 (Conv2D)            (None, 6, 6, 1)           10        \n",
            "_________________________________________________________________\n",
            "average_pooling2d (AveragePo (None, 3, 3, 1)           0         \n",
            "=================================================================\n",
            "Total params: 10\n",
            "Trainable params: 10\n",
            "Non-trainable params: 0\n",
            "_________________________________________________________________\n",
            "None\n"
          ],
          "name": "stdout"
        }
      ]
    },
    {
      "cell_type": "markdown",
      "metadata": {
        "id": "XCAO3b6y2RGU",
        "colab_type": "text"
      },
      "source": [
        "Note : the output size is halved"
      ]
    },
    {
      "cell_type": "code",
      "metadata": {
        "id": "wApHQqWm14-k",
        "colab_type": "code",
        "colab": {
          "base_uri": "https://localhost:8080/",
          "height": 70
        },
        "outputId": "4e62748a-bb33-4d71-d721-5dc7a62150a3"
      },
      "source": [
        "# set the same model weights\n",
        "model.set_weights(detector)\n",
        "\n",
        "# apply filter to input data\n",
        "ypred = model.predict(data)\n",
        "\n",
        "# enumerate rows\n",
        "for r in range(ypred.shape[1]):\n",
        "  print([ypred[0,r,c,0] for c in range(ypred.shape[2])])"
      ],
      "execution_count": 65,
      "outputs": [
        {
          "output_type": "stream",
          "text": [
            "[0.0, 3.0, 0.0]\n",
            "[0.0, 3.0, 0.0]\n",
            "[0.0, 3.0, 0.0]\n"
          ],
          "name": "stdout"
        }
      ]
    },
    {
      "cell_type": "markdown",
      "metadata": {
        "id": "NvxOVW_h2W--",
        "colab_type": "text"
      },
      "source": [
        "### Max Pooling Layer"
      ]
    },
    {
      "cell_type": "code",
      "metadata": {
        "id": "Ee4pKb_f2ZGi",
        "colab_type": "code",
        "colab": {
          "base_uri": "https://localhost:8080/",
          "height": 265
        },
        "outputId": "53f8dc94-79c6-4176-9af9-1fda87c240b9"
      },
      "source": [
        "from keras.layers import MaxPooling2D\n",
        "\n",
        "# create model\n",
        "model = Sequential()\n",
        "model.add(Conv2D(filters=1, kernel_size=(3,3), activation='relu',input_shape=(8,8,1)))\n",
        "model.add(MaxPooling2D())\n",
        "print('input shape : ',model.input_shape)\n",
        "print(model.summary())"
      ],
      "execution_count": 66,
      "outputs": [
        {
          "output_type": "stream",
          "text": [
            "input shape :  (None, 8, 8, 1)\n",
            "Model: \"sequential_13\"\n",
            "_________________________________________________________________\n",
            "Layer (type)                 Output Shape              Param #   \n",
            "=================================================================\n",
            "conv2d_9 (Conv2D)            (None, 6, 6, 1)           10        \n",
            "_________________________________________________________________\n",
            "max_pooling2d (MaxPooling2D) (None, 3, 3, 1)           0         \n",
            "=================================================================\n",
            "Total params: 10\n",
            "Trainable params: 10\n",
            "Non-trainable params: 0\n",
            "_________________________________________________________________\n",
            "None\n"
          ],
          "name": "stdout"
        }
      ]
    },
    {
      "cell_type": "code",
      "metadata": {
        "id": "kYcADn4C2mcA",
        "colab_type": "code",
        "colab": {
          "base_uri": "https://localhost:8080/",
          "height": 107
        },
        "outputId": "28fada84-8f6b-44d6-91df-03e869ff3f3c"
      },
      "source": [
        "# set the same model weights\n",
        "model.set_weights(detector)\n",
        "\n",
        "# apply filter to input data\n",
        "ypred = model.predict(data)\n",
        "\n",
        "# enumerate rows\n",
        "for r in range(ypred.shape[1]):\n",
        "  print([ypred[0,r,c,0] for c in range(ypred.shape[2])])"
      ],
      "execution_count": 67,
      "outputs": [
        {
          "output_type": "stream",
          "text": [
            "WARNING:tensorflow:5 out of the last 7 calls to <function Model.make_predict_function.<locals>.predict_function at 0x7f8ddc3bef28> triggered tf.function retracing. Tracing is expensive and the excessive number of tracings could be due to (1) creating @tf.function repeatedly in a loop, (2) passing tensors with different shapes, (3) passing Python objects instead of tensors. For (1), please define your @tf.function outside of the loop. For (2), @tf.function has experimental_relax_shapes=True option that relaxes argument shapes that can avoid unnecessary retracing. For (3), please refer to https://www.tensorflow.org/tutorials/customization/performance#python_or_tensor_args and https://www.tensorflow.org/api_docs/python/tf/function for  more details.\n",
            "[0.0, 3.0, 0.0]\n",
            "[0.0, 3.0, 0.0]\n",
            "[0.0, 3.0, 0.0]\n"
          ],
          "name": "stdout"
        }
      ]
    },
    {
      "cell_type": "markdown",
      "metadata": {
        "id": "u9bV49442sYP",
        "colab_type": "text"
      },
      "source": [
        "# Global Pooling Layers\n",
        "*   downsampling the entire feature map to a single value\n",
        "*   aggressively summarize the presence of a feature in an image"
      ]
    },
    {
      "cell_type": "markdown",
      "metadata": {
        "id": "hyLLFvvi3brU",
        "colab_type": "text"
      },
      "source": [
        "## Global Average Pooling Layer"
      ]
    },
    {
      "cell_type": "code",
      "metadata": {
        "id": "JaXrwEMG27US",
        "colab_type": "code",
        "colab": {
          "base_uri": "https://localhost:8080/",
          "height": 265
        },
        "outputId": "9203ef3d-fae4-452d-9063-fe941cd68c17"
      },
      "source": [
        "from keras.layers import GlobalAveragePooling2D\n",
        "\n",
        "# create model\n",
        "model = Sequential()\n",
        "model.add(Conv2D(filters=1, kernel_size=(3,3), activation='relu',input_shape=(8,8,1)))\n",
        "model.add(GlobalAveragePooling2D())\n",
        "print('input shape : ',model.input_shape)\n",
        "print(model.summary())"
      ],
      "execution_count": 68,
      "outputs": [
        {
          "output_type": "stream",
          "text": [
            "input shape :  (None, 8, 8, 1)\n",
            "Model: \"sequential_14\"\n",
            "_________________________________________________________________\n",
            "Layer (type)                 Output Shape              Param #   \n",
            "=================================================================\n",
            "conv2d_10 (Conv2D)           (None, 6, 6, 1)           10        \n",
            "_________________________________________________________________\n",
            "global_average_pooling2d (Gl (None, 1)                 0         \n",
            "=================================================================\n",
            "Total params: 10\n",
            "Trainable params: 10\n",
            "Non-trainable params: 0\n",
            "_________________________________________________________________\n",
            "None\n"
          ],
          "name": "stdout"
        }
      ]
    },
    {
      "cell_type": "code",
      "metadata": {
        "id": "4zQistEg3KFI",
        "colab_type": "code",
        "colab": {
          "base_uri": "https://localhost:8080/",
          "height": 34
        },
        "outputId": "1cbfc081-9c44-427a-a08b-6e82433af67d"
      },
      "source": [
        "# set the same model weights\n",
        "model.set_weights(detector)\n",
        "\n",
        "# apply filter to input data\n",
        "ypred = model.predict(data)\n",
        "\n",
        "print(ypred)"
      ],
      "execution_count": 70,
      "outputs": [
        {
          "output_type": "stream",
          "text": [
            "[[1.]]\n"
          ],
          "name": "stdout"
        }
      ]
    },
    {
      "cell_type": "markdown",
      "metadata": {
        "id": "ii4FBDIF3fGe",
        "colab_type": "text"
      },
      "source": [
        "## Global Max Pooling Layer"
      ]
    },
    {
      "cell_type": "code",
      "metadata": {
        "id": "xpHGmUH03hN2",
        "colab_type": "code",
        "colab": {
          "base_uri": "https://localhost:8080/",
          "height": 265
        },
        "outputId": "7a03c743-6fa8-4578-c6f1-71f101f6c70f"
      },
      "source": [
        "from keras.layers import GlobalMaxPooling2D\n",
        "\n",
        "# create model\n",
        "model = Sequential()\n",
        "model.add(Conv2D(filters=1, kernel_size=(3,3), activation='relu',input_shape=(8,8,1)))\n",
        "model.add(GlobalMaxPooling2D())\n",
        "print('input shape : ',model.input_shape)\n",
        "print(model.summary())"
      ],
      "execution_count": 71,
      "outputs": [
        {
          "output_type": "stream",
          "text": [
            "input shape :  (None, 8, 8, 1)\n",
            "Model: \"sequential_15\"\n",
            "_________________________________________________________________\n",
            "Layer (type)                 Output Shape              Param #   \n",
            "=================================================================\n",
            "conv2d_11 (Conv2D)           (None, 6, 6, 1)           10        \n",
            "_________________________________________________________________\n",
            "global_max_pooling2d (Global (None, 1)                 0         \n",
            "=================================================================\n",
            "Total params: 10\n",
            "Trainable params: 10\n",
            "Non-trainable params: 0\n",
            "_________________________________________________________________\n",
            "None\n"
          ],
          "name": "stdout"
        }
      ]
    },
    {
      "cell_type": "code",
      "metadata": {
        "id": "JFD9uTQK3qPn",
        "colab_type": "code",
        "colab": {
          "base_uri": "https://localhost:8080/",
          "height": 72
        },
        "outputId": "494390f2-bde5-4e65-b91a-7c4a274962dc"
      },
      "source": [
        "# set the same model weights\n",
        "model.set_weights(detector)\n",
        "\n",
        "# apply filter to input data\n",
        "ypred = model.predict(data)\n",
        "\n",
        "print(ypred)"
      ],
      "execution_count": 72,
      "outputs": [
        {
          "output_type": "stream",
          "text": [
            "WARNING:tensorflow:7 out of the last 10 calls to <function Model.make_predict_function.<locals>.predict_function at 0x7f8ddc3d0730> triggered tf.function retracing. Tracing is expensive and the excessive number of tracings could be due to (1) creating @tf.function repeatedly in a loop, (2) passing tensors with different shapes, (3) passing Python objects instead of tensors. For (1), please define your @tf.function outside of the loop. For (2), @tf.function has experimental_relax_shapes=True option that relaxes argument shapes that can avoid unnecessary retracing. For (3), please refer to https://www.tensorflow.org/tutorials/customization/performance#python_or_tensor_args and https://www.tensorflow.org/api_docs/python/tf/function for  more details.\n",
            "[[3.]]\n"
          ],
          "name": "stdout"
        }
      ]
    },
    {
      "cell_type": "markdown",
      "metadata": {
        "id": "qYlcHYsN7QuP",
        "colab_type": "text"
      },
      "source": [
        "# Manage Model Complexity with 1x1 Convolutional Layer\n",
        "usage\n",
        "*   create projection layer (channel-wise pooling)\n",
        "*   dimensionality reduction \n",
        "*   downsample the depth or number of feature maps"
      ]
    },
    {
      "cell_type": "code",
      "metadata": {
        "id": "_ynzZNte7WHx",
        "colab_type": "code",
        "colab": {
          "base_uri": "https://localhost:8080/",
          "height": 212
        },
        "outputId": "419f9f82-82b9-4061-8d20-bb4c75cb2e30"
      },
      "source": [
        "# create starter model\n",
        "model = Sequential()\n",
        "model.add(Conv2D(512, (3,3), padding='same', activation='relu', input_shape=(256,256,3)))\n",
        "print('input shape : ', model.input_shape)\n",
        "model.summary()"
      ],
      "execution_count": 74,
      "outputs": [
        {
          "output_type": "stream",
          "text": [
            "input shape :  (None, 256, 256, 3)\n",
            "Model: \"sequential_17\"\n",
            "_________________________________________________________________\n",
            "Layer (type)                 Output Shape              Param #   \n",
            "=================================================================\n",
            "conv2d_13 (Conv2D)           (None, 256, 256, 512)     14336     \n",
            "=================================================================\n",
            "Total params: 14,336\n",
            "Trainable params: 14,336\n",
            "Non-trainable params: 0\n",
            "_________________________________________________________________\n"
          ],
          "name": "stdout"
        }
      ]
    },
    {
      "cell_type": "markdown",
      "metadata": {
        "id": "a25lyE4n9ZDQ",
        "colab_type": "text"
      },
      "source": [
        "## Projecting Feature Maps / Channel-wise pooling"
      ]
    },
    {
      "cell_type": "code",
      "metadata": {
        "id": "rvyW1hUj9Vu7",
        "colab_type": "code",
        "colab": {
          "base_uri": "https://localhost:8080/",
          "height": 247
        },
        "outputId": "fef0ba2e-7c74-4462-d7e1-f1a973fb669f"
      },
      "source": [
        "model = Sequential()\n",
        "model.add(Conv2D(512, (3,3), padding='same', activation='relu', input_shape=(256,256,3)))\n",
        "model.add(Conv2D(512, (1,1), activation='relu'))\n",
        "print('input shape : ', model.input_shape)\n",
        "model.summary()"
      ],
      "execution_count": 75,
      "outputs": [
        {
          "output_type": "stream",
          "text": [
            "input shape :  (None, 256, 256, 3)\n",
            "Model: \"sequential_18\"\n",
            "_________________________________________________________________\n",
            "Layer (type)                 Output Shape              Param #   \n",
            "=================================================================\n",
            "conv2d_14 (Conv2D)           (None, 256, 256, 512)     14336     \n",
            "_________________________________________________________________\n",
            "conv2d_15 (Conv2D)           (None, 256, 256, 512)     262656    \n",
            "=================================================================\n",
            "Total params: 276,992\n",
            "Trainable params: 276,992\n",
            "Non-trainable params: 0\n",
            "_________________________________________________________________\n"
          ],
          "name": "stdout"
        }
      ]
    },
    {
      "cell_type": "markdown",
      "metadata": {
        "id": "2Dhkryg69_8e",
        "colab_type": "text"
      },
      "source": [
        "## Decreasing Feature Maps"
      ]
    },
    {
      "cell_type": "code",
      "metadata": {
        "id": "LoAikrwL-CZ2",
        "colab_type": "code",
        "colab": {
          "base_uri": "https://localhost:8080/",
          "height": 247
        },
        "outputId": "1bfe2468-d6a1-4993-a3c9-b44024fe83eb"
      },
      "source": [
        "model = Sequential()\n",
        "model.add(Conv2D(512, (3,3), padding='same', activation='relu', input_shape=(256,256,3)))\n",
        "model.add(Conv2D(64, (1,1), activation='relu'))\n",
        "print('input shape : ', model.input_shape)\n",
        "model.summary()"
      ],
      "execution_count": 76,
      "outputs": [
        {
          "output_type": "stream",
          "text": [
            "input shape :  (None, 256, 256, 3)\n",
            "Model: \"sequential_19\"\n",
            "_________________________________________________________________\n",
            "Layer (type)                 Output Shape              Param #   \n",
            "=================================================================\n",
            "conv2d_16 (Conv2D)           (None, 256, 256, 512)     14336     \n",
            "_________________________________________________________________\n",
            "conv2d_17 (Conv2D)           (None, 256, 256, 64)      32832     \n",
            "=================================================================\n",
            "Total params: 47,168\n",
            "Trainable params: 47,168\n",
            "Non-trainable params: 0\n",
            "_________________________________________________________________\n"
          ],
          "name": "stdout"
        }
      ]
    },
    {
      "cell_type": "markdown",
      "metadata": {
        "id": "vKo4bHux-KG8",
        "colab_type": "text"
      },
      "source": [
        "## Increasing Feature Maps"
      ]
    },
    {
      "cell_type": "code",
      "metadata": {
        "id": "oOGxHRz1-MKG",
        "colab_type": "code",
        "colab": {
          "base_uri": "https://localhost:8080/",
          "height": 247
        },
        "outputId": "02d287aa-326a-4f40-dad8-5c7feeee2418"
      },
      "source": [
        "model = Sequential()\n",
        "model.add(Conv2D(512, (3,3), padding='same', activation='relu', input_shape=(256,256,3)))\n",
        "model.add(Conv2D(1024, (1,1), activation='relu'))\n",
        "print('input shape : ', model.input_shape)\n",
        "model.summary()"
      ],
      "execution_count": 77,
      "outputs": [
        {
          "output_type": "stream",
          "text": [
            "input shape :  (None, 256, 256, 3)\n",
            "Model: \"sequential_20\"\n",
            "_________________________________________________________________\n",
            "Layer (type)                 Output Shape              Param #   \n",
            "=================================================================\n",
            "conv2d_18 (Conv2D)           (None, 256, 256, 512)     14336     \n",
            "_________________________________________________________________\n",
            "conv2d_19 (Conv2D)           (None, 256, 256, 1024)    525312    \n",
            "=================================================================\n",
            "Total params: 539,648\n",
            "Trainable params: 539,648\n",
            "Non-trainable params: 0\n",
            "_________________________________________________________________\n"
          ],
          "name": "stdout"
        }
      ]
    },
    {
      "cell_type": "markdown",
      "metadata": {
        "id": "4JP-4OZH-ZLT",
        "colab_type": "text"
      },
      "source": [
        "Note : 1x1 Filters are used in Inception model, Residual network"
      ]
    }
  ]
}